{
 "cells": [
  {
   "cell_type": "code",
   "execution_count": 1,
   "metadata": {},
   "outputs": [],
   "source": [
    "import networks as nt\n",
    "import numpy as np\n",
    "import matplotlib.pyplot as plt\n",
    "plt.rcParams.update({'pdf.fonttype': 42, 'ps.fonttype': 42})\n",
    "plt.rcParams.update({'font.size': 10, 'font.family': 'Helvetica'})\n",
    "\n",
    "from matplotlib import rc\n",
    "rc('font', **{'family': 'serif', 'serif': ['Computer Modern']})"
   ]
  },
  {
   "cell_type": "code",
   "execution_count": 2,
   "metadata": {},
   "outputs": [],
   "source": [
    "# Create Network and Simulation Parameters\n",
    "dim = 2\n",
    "threshold = 3\n",
    "seed = 1\n",
    "\n",
    "time_r = 0.4\n",
    "time_c = 2\n",
    "dt = 1e-4\n",
    "T_r = int(time_r / dt)\n",
    "T_c = int(time_c / dt)\n",
    "T_1 = int(T_c / 3)\n",
    "T_2 = 2 * T_1\n",
    "\n",
    "s_mag = 5\n",
    "lambd = 10\n",
    "noise = 0\n",
    "\n",
    "N = 6\n",
    "F = np.array([[1, 0],\n",
    "              [1/2, np.sqrt(3)/2],\n",
    "              [-1/2, np.sqrt(3)/2],\n",
    "              [-1, 0],\n",
    "              [-1/2, -np.sqrt(3)/2],\n",
    "              [1/2, -np.sqrt(3)/2]])\n",
    "Th = threshold * np.ones(N)\n",
    "D = F.T\n",
    "Omega = np.dot(F, D)\n",
    "Lambd = lambd * np.ones(N)\n",
    "\n",
    "np.random.seed(seed)\n",
    "angle = 2\n",
    "x0 = np.array([np.cos(angle), np.sin(angle)])\n",
    "X_r = np.zeros((T_r + 1, 2))\n",
    "for i in range(T_r + 1):\n",
    "    X_r[i, :] = s_mag * i * x0 / T_r\n",
    "Xdot_r = np.diff(X_r.T).T / dt\n",
    "X_r = X_r[:-1, :]\n",
    "C_r = Xdot_r + lambd * X_r\n",
    "angles = angle + 2.5 * np.pi * np.concatenate((np.linspace(0, 1/3, T_1), np.linspace(1/3, 2/3, T_2 - T_1), np.linspace(2/3, 1, T_c - T_2 + 1))) / 2\n",
    "X = np.zeros((T_c + 1, 2))\n",
    "for i in range(T_c + 1):\n",
    "    X[i, 0] = s_mag * np.cos(angles[i])\n",
    "    X[i, 1] = s_mag * np.sin(angles[i])\n",
    "Xdot = np.diff(X.T).T / dt\n",
    "C = Xdot + lambd * X[:-1, :]"
   ]
  },
  {
   "cell_type": "code",
   "execution_count": 3,
   "metadata": {},
   "outputs": [
    {
     "name": "stdout",
     "output_type": "stream",
     "text": [
      "dt 0.0001 ref 30 delay 0 N 6 most saturated neuron:  0.0 average saturated neuron: 0.0\n",
      "dt 0.0001 ref 30 delay 0 N 6 most saturated neuron:  0.0 average saturated neuron: 0.0\n"
     ]
    }
   ],
   "source": [
    "# Run Simulation\n",
    "dV_r = np.zeros((T_r, N))\n",
    "R_r, Spikes_r, R0, V0 = nt.sim(F, Omega, Th, C_r, dt, dV_r, Lambd, lambd, 0, np.zeros(N), np.zeros(N), seed=seed)\n",
    "Xh_r = np.dot(R_r, D.T)\n",
    "\n",
    "\n",
    "dV = np.zeros((T_c, N))\n",
    "R, Spikes, V, R0, V0 = nt.sim(F, Omega, Th, C, dt, dV, Lambd, lambd, 0, R0, V0, voltages=True, seed=seed)\n",
    "Xh = np.dot(R, D.T)"
   ]
  },
  {
   "cell_type": "code",
   "execution_count": 4,
   "metadata": {},
   "outputs": [
    {
     "name": "stdout",
     "output_type": "stream",
     "text": [
      "[0.75150023 0.24849977] Var of both components: 0.9999999999999994\n"
     ]
    },
    {
     "data": {
      "image/png": "[encoded data removed]",
      "text/plain": [
       "<Figure size 95.7219x95.7219 with 1 Axes>"
      ]
     },
     "metadata": {
      "needs_background": "light"
     },
     "output_type": "display_data"
    }
   ],
   "source": [
    "from sklearn.decomposition import PCA\n",
    "pca = PCA(n_components=2)\n",
    "principalComponents = pca.fit_transform(V)\n",
    "scale = 0.664735099\n",
    "fig, ax = plt.subplots(1, 1, figsize=(scale * 2, scale * 2))\n",
    "ax.plot(principalComponents[:, 0], principalComponents[:, 1], lw = 0.5)\n",
    "ax.spines['right'].set_visible(False)\n",
    "ax.spines['top'].set_visible(False)\n",
    "ax.set_aspect(1)\n",
    "ax.set_xlim([-6, 6])\n",
    "ax.set_ylim([-4, 8])\n",
    "ax.set_xticks((-4, 0, 4))\n",
    "ax.set_xticklabels([])\n",
    "ax.set_yticks((-2, 2, 6))\n",
    "ax.set_yticklabels([])\n",
    "fig.savefig('SFIG2B.pdf')\n",
    "var = pca.explained_variance_ratio_\n",
    "print(var, \"Var of both components: {}\".format(var[0] + var[1]))"
   ]
  },
  {
   "cell_type": "code",
   "execution_count": 5,
   "metadata": {},
   "outputs": [],
   "source": [
    "np.random.seed(seed)\n",
    "\n",
    "# Create Network and Simulation Parameters\n",
    "dim = 50\n",
    "N = 1000\n",
    "threshold = 0.6\n",
    "seed = 1\n",
    "\n",
    "time_r = 0.4\n",
    "time_c = 10\n",
    "dt = 1e-4\n",
    "T_r = int(time_r / dt)\n",
    "T_c = int(time_c / dt)\n",
    "\n",
    "s_mag = 5\n",
    "lambd = 10\n",
    "noise = 0\n",
    "\n",
    "F = np.random.randn(N, dim)\n",
    "for i in range(N):\n",
    "    F[i, :] /= np.linalg.norm(F[i, :])\n",
    "Th = threshold * np.ones(N)\n",
    "D = F.T\n",
    "Omega = np.dot(F, D)\n",
    "Lambd = lambd * np.ones(N)\n",
    "\n",
    "no_points = 5\n",
    "points = np.random.randn(no_points, dim)\n",
    "for i in range(no_points):\n",
    "    points[i, :] /= np.linalg.norm(points[i, :])\n",
    "X_r = np.zeros((T_r + 1, dim))\n",
    "for i in range(T_r + 1):\n",
    "    X_r[i, :] = s_mag * i * points[0, :] / T_r\n",
    "Xdot_r = np.diff(X_r.T).T / dt\n",
    "X_r = X_r[:-1, :]\n",
    "C_r = Xdot_r + lambd * X_r\n",
    "\n",
    "jump = int(T_c / (no_points - 1))\n",
    "X = np.zeros(((no_points - 1) * jump + 1, dim))\n",
    "for i in range(no_points - 1):\n",
    "    for j in range(jump):\n",
    "        X[i*jump + j, :] = (1 - j / jump) * points[i, :] + (j / jump) * points[i + 1, :]\n",
    "        X[i*jump + j, :] *= s_mag / np.linalg.norm(X[i*jump + j, :])\n",
    "\n",
    "Xdot = np.diff(X.T).T / dt\n",
    "C = Xdot + lambd * X[:-1, :]"
   ]
  },
  {
   "cell_type": "code",
   "execution_count": null,
   "metadata": {},
   "outputs": [
    {
     "name": "stdout",
     "output_type": "stream",
     "text": [
      "dt 0.0001 ref 30 delay 0 N 1000 most saturated neuron:  0.0 average saturated neuron: 0.0\n"
     ]
    }
   ],
   "source": [
    "# Run Simulation\n",
    "dV_r = np.zeros((T_r, N))\n",
    "R_r, Spikes_r, R0, V0 = nt.sim(F, Omega, Th, C_r, dt, dV_r, Lambd, lambd, 0, np.zeros(N), np.zeros(N), seed=seed)\n",
    "Xh_r = np.dot(R_r, D.T)\n",
    "\n",
    "\n",
    "dV = np.zeros((T_c, N))\n",
    "R, Spikes, V, R0, V0 = nt.sim(F, Omega, Th, C, dt, dV, Lambd, lambd, 0, R0, V0, voltages=True, seed=seed)\n",
    "Xh = np.dot(R, D.T)"
   ]
  },
  {
   "cell_type": "code",
   "execution_count": null,
   "metadata": {},
   "outputs": [],
   "source": [
    "from sklearn.decomposition import PCA\n",
    "pca = PCA(n_components=2)\n",
    "principalComponents = pca.fit_transform(V[:-1, :])\n",
    "\n",
    "fig, ax = plt.subplots(1, 1, figsize=(scale * 2, scale * 2))\n",
    "ax.plot(principalComponents[:, 0], principalComponents[:, 1], lw = 0.5)\n",
    "ax.spines['right'].set_visible(False)\n",
    "ax.spines['top'].set_visible(False)\n",
    "ax.set_aspect(1)\n",
    "ax.set_xlim([-5, 5])\n",
    "ax.set_ylim([-5, 5])\n",
    "ax.set_xticks((-2, 1, 4))\n",
    "ax.set_xticklabels([])\n",
    "ax.set_yticks((-3, 0, 3))\n",
    "ax.set_yticklabels([])\n",
    "fig.savefig('SFIG2C.pdf')\n",
    "var = pca.explained_variance_ratio_\n",
    "print(var, \"Var of both components: {}\".format(var[0] + var[1]))"
   ]
  },
  {
   "cell_type": "code",
   "execution_count": null,
   "metadata": {},
   "outputs": [],
   "source": []
  }
 ],
 "metadata": {
  "kernelspec": {
   "display_name": "Python 3",
   "language": "python",
   "name": "python3"
  },
  "language_info": {
   "codemirror_mode": {
    "name": "ipython",
    "version": 3
   },
   "file_extension": ".py",
   "mimetype": "text/x-python",
   "name": "python",
   "nbconvert_exporter": "python",
   "pygments_lexer": "ipython3",
   "version": "3.7.10"
  }
 },
 "nbformat": 4,
 "nbformat_minor": 2
}
